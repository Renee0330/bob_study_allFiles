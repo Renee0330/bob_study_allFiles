{
  "nbformat": 4,
  "nbformat_minor": 0,
  "metadata": {
    "colab": {
      "provenance": [],
      "authorship_tag": "ABX9TyPoNWe+XJqz36FI2omj+8/S",
      "include_colab_link": true
    },
    "kernelspec": {
      "name": "python3",
      "display_name": "Python 3"
    },
    "language_info": {
      "name": "python"
    }
  },
  "cells": [
    {
      "cell_type": "markdown",
      "metadata": {
        "id": "view-in-github",
        "colab_type": "text"
      },
      "source": [
        "<a href=\"https://colab.research.google.com/github/Renee0330/bob_study_allFiles/blob/main/Untitled2.ipynb\" target=\"_parent\"><img src=\"https://colab.research.google.com/assets/colab-badge.svg\" alt=\"Open In Colab\"/></a>"
      ]
    },
    {
      "cell_type": "markdown",
      "source": [],
      "metadata": {
        "id": "BA7TzIcqjUqM"
      }
    },
    {
      "cell_type": "code",
      "source": [
        "import numpy as np\n",
        "import pandas as pd\n",
        "import networkx as nx\n",
        "import matplotlib.pyplot as plt\n",
        "import math"
      ],
      "metadata": {
        "id": "AD6ZwykO8yo_"
      },
      "execution_count": 2,
      "outputs": []
    },
    {
      "cell_type": "code",
      "execution_count": 3,
      "metadata": {
        "id": "uYXnSr_8f7AI"
      },
      "outputs": [],
      "source": [
        "def load_graph_data(file_path):\n",
        "    df = pd.read_csv(file_path)\n",
        "    graph = nx.Graph()\n",
        "    graph.add_edges_from(df.values)\n",
        "    return graph"
      ]
    },
    {
      "cell_type": "code",
      "source": [
        "# Heuristic Scores\n",
        "# 1. Common Neighbors\n",
        "# graph\n",
        "# edge [(node1, node2), ...]\n",
        "def common_neighbors(graph, edges):\n",
        "  result = dict()\n",
        "  for node1, node2 in edges:\n",
        "    if node1 in graph and node2 in graph:\n",
        "      # nx.common_neighbors 返回的是两个点的共同邻居\n",
        "      result[(node1,node2)] = len(list(nx.common_neighbors(graph, node1, node2)))\n",
        "  return result\n",
        "\n",
        "# 2. Jaccard Coefficient\n",
        "def jaccard_coefficient(graph, edges):\n",
        "  result = dict()\n",
        "  for node1, node2 in edges:\n",
        "    if node1 in graph and node2 in graph:\n",
        "      # nx.jaccard_coefficient 返回的是元组（u,v,score）\n",
        "      for u, v, score in nx.jaccard_coefficient(graph, [(node1, node2)]):\n",
        "        result[(u, v)] = score\n",
        "  return result\n",
        "\n",
        "# 3. Cosine Similarity\n",
        "def cosine_similarity(graph, edges):\n",
        "  result = dict()\n",
        "  for node1, node2 in edges:\n",
        "    if node1 in graph and node2 in graph:\n",
        "      N_node1 = set(graph.neighbors(node1))\n",
        "      N_node2 = set(graph.neighbors(node2))\n",
        "      N_node1_node2 = N_node1 & N_node2\n",
        "      if (len(N_node1) * len(N_node2) != 0):\n",
        "        result[(node1,node2)] = len(N_node1_node2) / math.sqrt(len(N_node1) * len(N_node2))\n",
        "      else:\n",
        "        result[(node1,node2)] = 0\n",
        "  return result\n",
        "\n",
        "\n",
        "# 4. Adar Index\n",
        "def adar_index(graph, edges):\n",
        "  result = dict()\n",
        "  for node1, node2 in edges:\n",
        "    if node1 in graph and node2 in graph:\n",
        "      for u, v, score in nx.adamic_adar_index(graph, [(node1, node2)]):\n",
        "        result[(u, v)] = score\n",
        "  return result\n",
        "\n",
        "# 4. Preferential Attachment\n",
        "def preferential_attachment(graph, edges):\n",
        "  result = dict()\n",
        "  for node1, node2 in edges:\n",
        "    if node1 in graph and node2 in graph:\n",
        "      for u, v, score in nx.preferential_attachment(graph, [(node1, node2)]):\n",
        "        result[(u, v)] = score\n",
        "  return result"
      ],
      "metadata": {
        "id": "Szp70AdjjTox"
      },
      "execution_count": 1,
      "outputs": []
    },
    {
      "cell_type": "code",
      "source": [
        "# Random Walk-based Methods\n",
        "# 1. Shortest Path Diatance\n",
        "def shortest_path_distance(graph, edges):\n",
        "  result = dict()\n",
        "  for node1, node2 in edges:\n",
        "    result[(node1, node2)] = nx.shortest_path_length(graph, node1, node2)\n",
        "  return result\n",
        "\n",
        "# 2. Kats\n",
        "def katz_centrality(graph, edges, beta=0.005, max_path_length=4):\n",
        "  # 邻接矩阵为NumPy\n",
        "  A = nx.adjacency_matrix(graph).astype(float).toarray()\n",
        "  N = A.shape[0]\n",
        "\n",
        "  # 初始化Katz得分矩阵\n",
        "  katz_matrix = np.zeros((N, N))\n",
        "  Al = np.eye(N)\n",
        "\n",
        "  # 统一构建Katz矩阵\n",
        "  for l in range(1, max_path_length + 1):\n",
        "    Al = np.matmul(Al, A)\n",
        "    katz_matrix += (beta ** l) * Al\n",
        "\n",
        "  node_list = list(graph.nodes())\n",
        "  node_index = {}\n",
        "  for idx, node in enumerate(node_list):\n",
        "    node_index[node] = idx\n",
        "\n",
        "  result = dict()\n",
        "  for node1, node2 in edges:\n",
        "    if node1 in graph and node2 in graph:\n",
        "      i = node_index[node1]\n",
        "      j = node_index[node2]\n",
        "      result[(node1, node2)] = katz_matrix[i, j]\n",
        "  return result\n",
        "\n",
        "\n",
        "\n",
        "\n",
        "# 3. Personalized PageRank\n",
        "\n",
        "\n"
      ],
      "metadata": {
        "id": "WF02akQ69hER"
      },
      "execution_count": null,
      "outputs": []
    },
    {
      "cell_type": "code",
      "source": [
        "# Community-based Methods\n",
        "# 1. Spectral Clustering\n",
        "\n",
        "\n",
        "# 2. Modularity Maximization"
      ],
      "metadata": {
        "id": "QDeeJNMi-1MA"
      },
      "execution_count": null,
      "outputs": []
    },
    {
      "cell_type": "code",
      "source": [
        "# Embedding-based Methods"
      ],
      "metadata": {
        "id": "H9t13yMJ_A3y"
      },
      "execution_count": null,
      "outputs": []
    },
    {
      "cell_type": "code",
      "source": [
        "# Machine Learning"
      ],
      "metadata": {
        "id": "9HuHTxSM9mZ-"
      },
      "execution_count": null,
      "outputs": []
    },
    {
      "cell_type": "code",
      "source": [
        "def top_N_centrality_nodes(centrality_dic, N = 10):\n",
        "    \"\"\"\n",
        "    Sorts the centrality scores in descending order and prints the top-N nodes with the highest values.\n",
        "\n",
        "    :param centrality_dic: dict, a dictionary recording nodes with corresponding centrality scores\n",
        "    :param N: int, number of top nodes to display (N defaults to 10)\n",
        "    \"\"\"\n",
        "\n",
        "    # Sort based on centrality score in descending order\n",
        "    sorted_items = sorted(centrality_dic.items(), key = lambda item: item[1], reverse = True)\n",
        "    # Select top-N (top-10)\n",
        "    top_n_items = sorted_items[:N]\n",
        "    # Print only node IDs\n",
        "    for item in top_n_items:\n",
        "        print(item[0], end=\" \")\n",
        "\n"
      ],
      "metadata": {
        "id": "zZNjw-_3hkcB"
      },
      "execution_count": null,
      "outputs": []
    }
  ]
}