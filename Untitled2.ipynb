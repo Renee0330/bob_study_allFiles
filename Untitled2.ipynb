{
  "nbformat": 4,
  "nbformat_minor": 0,
  "metadata": {
    "colab": {
      "provenance": [],
      "authorship_tag": "ABX9TyN3KUln+afrbaqcJFb93tdg",
      "include_colab_link": true
    },
    "kernelspec": {
      "name": "python3",
      "display_name": "Python 3"
    },
    "language_info": {
      "name": "python"
    }
  },
  "cells": [
    {
      "cell_type": "markdown",
      "metadata": {
        "id": "view-in-github",
        "colab_type": "text"
      },
      "source": [
        "<a href=\"https://colab.research.google.com/github/Renee0330/bob_study_allFiles/blob/main/Untitled2.ipynb\" target=\"_parent\"><img src=\"https://colab.research.google.com/assets/colab-badge.svg\" alt=\"Open In Colab\"/></a>"
      ]
    },
    {
      "cell_type": "markdown",
      "source": [],
      "metadata": {
        "id": "BA7TzIcqjUqM"
      }
    },
    {
      "cell_type": "code",
      "source": [
        "import networkx as nx\n",
        "import matplotlib.pyplot as plt"
      ],
      "metadata": {
        "id": "AD6ZwykO8yo_"
      },
      "execution_count": null,
      "outputs": []
    },
    {
      "cell_type": "code",
      "execution_count": null,
      "metadata": {
        "id": "uYXnSr_8f7AI"
      },
      "outputs": [],
      "source": [
        "def load_graph_data(file_path):\n",
        "    \"\"\"\n",
        "    Loads data and constructs an undirected and unweighted graph as an adjacency list.\n",
        "\n",
        "    :param file_path: string, Path to the dataset file (each line indicates an edge between two nodes IDs)\n",
        "    :return: dict, a dictionary representing the adjacency list\n",
        "            key - node, value - the list of its neighbors\n",
        "    \"\"\"\n",
        "\n",
        "    # Open the .txt file and read content\n",
        "    with open(file_path, 'r') as file:\n",
        "        lines = file.readlines()\n",
        "\n",
        "    # Generate a dictionary graph that shows nodes with their neighbors\n",
        "    graph = {}\n",
        "    for line in lines:\n",
        "        node1, node2 = map(int, line.strip().split())\n",
        "\n",
        "        # Add the nodes if it's not in the graph\n",
        "        if node1 not in graph:\n",
        "            graph[node1] = []\n",
        "        if node2 not in graph:\n",
        "            graph[node2] = []\n",
        "\n",
        "        # Add both nodes to each other's neighbor list\n",
        "        graph[node1].append(node2)\n",
        "        graph[node2].append(node1)\n",
        "\n",
        "    # Return a dictionary indicating adjacency list\n",
        "    return graph"
      ]
    },
    {
      "cell_type": "code",
      "source": [
        "# Heuristic Scores\n",
        "# 1. Common Neighbors\n",
        "# 2. Jaccard Coefficient\n",
        "# 3. Adar Index\n",
        "# 4. Preferential Attachment\n"
      ],
      "metadata": {
        "id": "Szp70AdjjTox"
      },
      "execution_count": null,
      "outputs": []
    },
    {
      "cell_type": "code",
      "source": [
        "# Graph Embedding\n",
        "# 1."
      ],
      "metadata": {
        "id": "WF02akQ69hER"
      },
      "execution_count": null,
      "outputs": []
    },
    {
      "cell_type": "code",
      "source": [
        "# Machine Learning"
      ],
      "metadata": {
        "id": "9HuHTxSM9mZ-"
      },
      "execution_count": null,
      "outputs": []
    },
    {
      "cell_type": "code",
      "source": [
        "def top_N_centrality_nodes(centrality_dic, N = 10):\n",
        "    \"\"\"\n",
        "    Sorts the centrality scores in descending order and prints the top-N nodes with the highest values.\n",
        "\n",
        "    :param centrality_dic: dict, a dictionary recording nodes with corresponding centrality scores\n",
        "    :param N: int, number of top nodes to display (N defaults to 10)\n",
        "    \"\"\"\n",
        "\n",
        "    # Sort based on centrality score in descending order\n",
        "    sorted_items = sorted(centrality_dic.items(), key = lambda item: item[1], reverse = True)\n",
        "    # Select top-N (top-10)\n",
        "    top_n_items = sorted_items[:N]\n",
        "    # Print only node IDs\n",
        "    for item in top_n_items:\n",
        "        print(item[0], end=\" \")\n",
        "\n"
      ],
      "metadata": {
        "id": "zZNjw-_3hkcB"
      },
      "execution_count": null,
      "outputs": []
    }
  ]
}