{
  "cells": [
    {
      "cell_type": "markdown",
      "metadata": {
        "id": "view-in-github",
        "colab_type": "text"
      },
      "source": [
        "<a href=\"https://colab.research.google.com/github/Renee0330/bob_study_allFiles/blob/main/01_Tutorial_Week2.ipynb\" target=\"_parent\"><img src=\"https://colab.research.google.com/assets/colab-badge.svg\" alt=\"Open In Colab\"/></a>"
      ]
    },
    {
      "cell_type": "markdown",
      "id": "be79dcdf",
      "metadata": {
        "id": "be79dcdf"
      },
      "source": [
        "# Section 3: Coding Demo\n",
        "\n",
        "## In this section, we aim to demonstrate:\n",
        "### 1. How to define a graph?\n",
        "### 2. How to use DFS to traverse a graph?\n",
        "### 3. How to use BFS to traverse a graph?"
      ]
    },
    {
      "cell_type": "markdown",
      "id": "a5116db2",
      "metadata": {
        "id": "a5116db2"
      },
      "source": [
        "#### 3.1 How to define a graph?\n",
        "1. adjacency matrix (effective with dense graphs)\n",
        "2. adjacency list (effective with sparse graphs)"
      ]
    },
    {
      "cell_type": "code",
      "execution_count": 5,
      "id": "dbf5ed42",
      "metadata": {
        "tags": [],
        "colab": {
          "base_uri": "https://localhost:8080/",
          "height": 516
        },
        "id": "dbf5ed42",
        "outputId": "8e5c487f-9792-4bff-8a58-e279a18997e4"
      },
      "outputs": [
        {
          "output_type": "display_data",
          "data": {
            "text/plain": [
              "<Figure size 640x480 with 1 Axes>"
            ],
            "image/png": "[encoded data removed]"
          },
          "metadata": {}
        }
      ],
      "source": [
        "import networkx as nx\n",
        "# NetworkX is a python package for the study of graphs.\n",
        "# NetworkX document: https://networkx.org/\n",
        "\n",
        "# Define an undirected and unweighted graph consisting of 8 nodes and 7 edges.\n",
        "# Store each node (keys) in a dictionary along with a set containing their adjacent nodes (values).\n",
        "graph = {'A': ['B','C'],\n",
        "         'B': ['A','D'],\n",
        "         'C': ['A','E','F'],\n",
        "         'D': ['B','G','H'],\n",
        "         'E': ['C'],\n",
        "         'F': ['C'],\n",
        "         'G': ['D'],\n",
        "         'H': ['D']}\n",
        "\n",
        "# This function is defined to plot the graph.\n",
        "def plot_graph(graph):\n",
        "  g = nx.Graph()\n",
        "  for key, value in graph.items():\n",
        "    for neighbor in value:\n",
        "      g.add_edge(key, neighbor)\n",
        "  nx.draw(g, with_labels=True)\n",
        "\n",
        "plot_graph(graph)"
      ]
    },
    {
      "cell_type": "markdown",
      "id": "a37d1b06",
      "metadata": {
        "id": "a37d1b06"
      },
      "source": [
        "#### 3.2 How to use DFS to traverse a garph?\n",
        "1. We use stack data structure to track which node to visit next.\n",
        "2. The stack data structure follws the LIFO(Last-in-First-Out)"
      ]
    },
    {
      "cell_type": "code",
      "execution_count": 9,
      "id": "d286f83a",
      "metadata": {
        "id": "d286f83a"
      },
      "outputs": [],
      "source": [
        "def dfs(graph, node):\n",
        "    '''\n",
        "    This function define a DFS algorithm.\n",
        "\n",
        "    Args:\n",
        "        graph (dictionary): the key denotes the node, the value denotes its neighbor nodes;\n",
        "        node (str): the start node\n",
        "\n",
        "    Returns:\n",
        "        visited (list): the order in which nodes are visited by DFS\n",
        "    '''\n",
        "    visited = [node]  # Define a list to keep track of visited nodes.\n",
        "    stack = [neighbors for neighbors in graph[node]]  # stack is a list that is used to keep track of nodes in the stack\n",
        "    while stack:  # The algorithm will terminate when the stack is empty\n",
        "        vertex = stack.pop()  # LIFO\n",
        "        if vertex not in visited:  # Check if the node is visited\n",
        "            visited.append(vertex)  # Add the node to the visited list\n",
        "            stack.extend(graph[vertex])  # extend the stack\n",
        "    return visited"
      ]
    },
    {
      "cell_type": "code",
      "execution_count": 10,
      "id": "cc5b38d5",
      "metadata": {
        "colab": {
          "base_uri": "https://localhost:8080/"
        },
        "id": "cc5b38d5",
        "outputId": "0e7d7645-56df-4613-9502-778806fe6773"
      },
      "outputs": [
        {
          "output_type": "stream",
          "name": "stdout",
          "text": [
            "['A', 'C', 'F', 'E', 'B', 'D', 'H', 'G']\n"
          ]
        }
      ],
      "source": [
        "results = dfs(graph,'A')\n",
        "print(results)"
      ]
    },
    {
      "cell_type": "markdown",
      "id": "85b9c4f2",
      "metadata": {
        "id": "85b9c4f2"
      },
      "source": [
        "#### 3.3 How to use BFS to traverse a graph?\n",
        "1. We use queue data structure to track which node to visit next.\n",
        "2. The queue data structure follows the FIFO(First-in-First-out)"
      ]
    },
    {
      "cell_type": "code",
      "execution_count": 11,
      "id": "f85a06cc",
      "metadata": {
        "id": "f85a06cc"
      },
      "outputs": [],
      "source": [
        "def bfs(graph, node):\n",
        "    '''\n",
        "    This function define a BFS algorithm.\n",
        "\n",
        "    Args:\n",
        "        graph (dictionary): the key denotes the node, the value denotes its neighbor nodes;\n",
        "        node (str): the start node\n",
        "\n",
        "    Returns:\n",
        "        visited (list): the order in which nodes are visited by BFS\n",
        "    '''\n",
        "    visited = [node] # Define a list to keep track of visited nodes.\n",
        "    queue = [neighbors for neighbors in graph[node]] # queue is a list that is used to keep track of nodes in the queue\n",
        "    while queue: # The algorithm will terminate when the queue is empty\n",
        "        vertex = queue.pop(0) # FIFO\n",
        "        if vertex not in visited: # Check if the node is visited\n",
        "            visited.append(vertex) # Add the node to the visited list\n",
        "            queue.extend(graph[vertex]) # extend the queue\n",
        "    return visited"
      ]
    },
    {
      "cell_type": "code",
      "execution_count": 12,
      "id": "7e2fc24d",
      "metadata": {
        "tags": [],
        "colab": {
          "base_uri": "https://localhost:8080/"
        },
        "id": "7e2fc24d",
        "outputId": "2a5ba61b-3247-4dd2-edd6-f917fcf6bee4"
      },
      "outputs": [
        {
          "output_type": "stream",
          "name": "stdout",
          "text": [
            "['A', 'B', 'C', 'D', 'E', 'F', 'G', 'H']\n"
          ]
        }
      ],
      "source": [
        "bfs_results = bfs(graph,'A')\n",
        "print(bfs_results)"
      ]
    }
  ],
  "metadata": {
    "kernelspec": {
      "display_name": "Python 3 (ipykernel)",
      "language": "python",
      "name": "python3"
    },
    "language_info": {
      "codemirror_mode": {
        "name": "ipython",
        "version": 3
      },
      "file_extension": ".py",
      "mimetype": "text/x-python",
      "name": "python",
      "nbconvert_exporter": "python",
      "pygments_lexer": "ipython3",
      "version": "3.11.4"
    },
    "colab": {
      "provenance": [],
      "include_colab_link": true
    }
  },
  "nbformat": 4,
  "nbformat_minor": 5
}